{
 "cells": [
  {
   "cell_type": "markdown",
   "metadata": {},
   "source": [
    "# SIIM ISIC MELANOMA DETECTION - Ensemble(Transfer) Learning\n",
    "\n",
    "### Ensemble learning is the process by which multiple models, such as classifiers or experts, are strategically generated and combined to solve a particular computational intelligence problem.\n",
    "\n",
    "### I have trained the model using transfer learning model VGG16 and DenseNet model to predict whether images are Malignant or benign.\n"
   ]
  },
  {
   "cell_type": "code",
   "execution_count": 1,
   "metadata": {},
   "outputs": [
    {
     "name": "stdout",
     "output_type": "stream",
     "text": [
      "Requirement already satisfied: keras in c:\\users\\rishv\\anaconda3\\lib\\site-packages (2.4.3)\n",
      "Requirement already satisfied: numpy>=1.9.1 in c:\\users\\rishv\\anaconda3\\lib\\site-packages (from keras) (1.19.5)\n",
      "Requirement already satisfied: scipy>=0.14 in c:\\users\\rishv\\anaconda3\\lib\\site-packages (from keras) (1.4.1)\n",
      "Requirement already satisfied: pyyaml in c:\\users\\rishv\\anaconda3\\lib\\site-packages (from keras) (5.3)\n",
      "Requirement already satisfied: h5py in c:\\users\\rishv\\anaconda3\\lib\\site-packages (from keras) (2.10.0)\n",
      "Requirement already satisfied: six in c:\\users\\rishv\\anaconda3\\lib\\site-packages (from h5py->keras) (1.15.0)\n",
      "Note: you may need to restart the kernel to use updated packages.\n"
     ]
    },
    {
     "name": "stderr",
     "output_type": "stream",
     "text": [
      "WARNING: You are using pip version 20.2.4; however, version 21.0.1 is available.\n",
      "You should consider upgrading via the 'C:\\Users\\rishv\\anaconda3\\python.exe -m pip install --upgrade pip' command.\n"
     ]
    }
   ],
   "source": [
    "'''Installing the required dependencies'''\n",
    "\n",
    "pip install keras"
   ]
  },
  {
   "cell_type": "code",
   "execution_count": 2,
   "metadata": {},
   "outputs": [],
   "source": [
    "'''Importing the required libraries'''\n",
    "\n",
    "import numpy as np \n",
    "import pandas as pd \n",
    "import gc\n",
    "import json\n",
    "import math\n",
    "import cv2\n",
    "import PIL\n",
    "from PIL import Image\n",
    "import seaborn as sns\n",
    "sns.set(style='darkgrid')\n",
    "from sklearn.preprocessing import LabelEncoder\n",
    "from keras.utils import to_categorical\n",
    "from keras import layers\n",
    "from keras.applications import ResNet50,MobileNet, DenseNet201, InceptionV3, NASNetLarge, InceptionResNetV2, NASNetMobile\n",
    "from keras.callbacks import Callback, ModelCheckpoint, ReduceLROnPlateau, TensorBoard\n",
    "from keras.preprocessing.image import ImageDataGenerator\n",
    "from keras.utils.np_utils import to_categorical\n",
    "from keras.models import Sequential\n",
    "from keras.optimizers import Adam\n",
    "import matplotlib.pyplot as plt\n",
    "import pandas as pd\n",
    "from sklearn.model_selection import train_test_split\n",
    "from sklearn.metrics import cohen_kappa_score, accuracy_score\n",
    "import scipy\n",
    "from tqdm import tqdm\n",
    "import tensorflow as tf\n",
    "from keras import backend as K\n",
    "import gc\n",
    "from functools import partial\n",
    "from sklearn import metrics\n",
    "from collections import Counter\n",
    "import json\n",
    "import itertools\n",
    "from tensorflow import keras\n",
    "\n",
    "import matplotlib.pyplot as plt\n",
    "from sklearn.model_selection import KFold\n",
    "from sklearn.preprocessing import OneHotEncoder\n",
    "from tqdm import tqdm\n",
    "from sklearn.decomposition import PCA\n",
    "\n",
    "from keras.models import Sequential\n",
    "from keras.layers import Input, Dense, Activation, ZeroPadding2D, BatchNormalization, Flatten, Convolution2D,Conv2D\n",
    "from keras.layers import AveragePooling2D, MaxPooling2D, Dropout, GlobalMaxPooling2D, GlobalAveragePooling2D\n",
    "from keras.optimizers import SGD\n",
    "from keras.callbacks import TensorBoard\n",
    "from keras import applications"
   ]
  },
  {
   "cell_type": "code",
   "execution_count": 3,
   "metadata": {},
   "outputs": [
    {
     "name": "stdout",
     "output_type": "stream",
     "text": [
      "33126 images in train set.\n",
      "10982 images in test set.\n"
     ]
    }
   ],
   "source": [
    "'''Loading Train and Test Data'''\n",
    "\n",
    "train = pd.read_csv(\"C:/Users/gnana/Downloads/x_test_96.npy/train.csv\")\n",
    "test = pd.read_csv(\"C:/Users/gnana/Downloads/x_test_96.npy/test.csv\")\n",
    "print(\"{} images in train set.\".format(train.shape[0]))\n",
    "print(\"{} images in test set.\".format(test.shape[0]))"
   ]
  },
  {
   "cell_type": "code",
   "execution_count": 4,
   "metadata": {},
   "outputs": [
    {
     "data": {
      "text/html": [
       "<div>\n",
       "<style scoped>\n",
       "    .dataframe tbody tr th:only-of-type {\n",
       "        vertical-align: middle;\n",
       "    }\n",
       "\n",
       "    .dataframe tbody tr th {\n",
       "        vertical-align: top;\n",
       "    }\n",
       "\n",
       "    .dataframe thead th {\n",
       "        text-align: right;\n",
       "    }\n",
       "</style>\n",
       "<table border=\"1\" class=\"dataframe\">\n",
       "  <thead>\n",
       "    <tr style=\"text-align: right;\">\n",
       "      <th></th>\n",
       "      <th>image_name</th>\n",
       "      <th>patient_id</th>\n",
       "      <th>sex</th>\n",
       "      <th>age_approx</th>\n",
       "      <th>anatom_site_general_challenge</th>\n",
       "      <th>diagnosis</th>\n",
       "      <th>benign_malignant</th>\n",
       "      <th>target</th>\n",
       "    </tr>\n",
       "  </thead>\n",
       "  <tbody>\n",
       "    <tr>\n",
       "      <th>0</th>\n",
       "      <td>ISIC_2637011</td>\n",
       "      <td>IP_7279968</td>\n",
       "      <td>male</td>\n",
       "      <td>45.0</td>\n",
       "      <td>head/neck</td>\n",
       "      <td>unknown</td>\n",
       "      <td>benign</td>\n",
       "      <td>0</td>\n",
       "    </tr>\n",
       "    <tr>\n",
       "      <th>1</th>\n",
       "      <td>ISIC_0015719</td>\n",
       "      <td>IP_3075186</td>\n",
       "      <td>female</td>\n",
       "      <td>45.0</td>\n",
       "      <td>upper extremity</td>\n",
       "      <td>unknown</td>\n",
       "      <td>benign</td>\n",
       "      <td>0</td>\n",
       "    </tr>\n",
       "    <tr>\n",
       "      <th>2</th>\n",
       "      <td>ISIC_0052212</td>\n",
       "      <td>IP_2842074</td>\n",
       "      <td>female</td>\n",
       "      <td>50.0</td>\n",
       "      <td>lower extremity</td>\n",
       "      <td>nevus</td>\n",
       "      <td>benign</td>\n",
       "      <td>0</td>\n",
       "    </tr>\n",
       "    <tr>\n",
       "      <th>3</th>\n",
       "      <td>ISIC_0068279</td>\n",
       "      <td>IP_6890425</td>\n",
       "      <td>female</td>\n",
       "      <td>45.0</td>\n",
       "      <td>head/neck</td>\n",
       "      <td>unknown</td>\n",
       "      <td>benign</td>\n",
       "      <td>0</td>\n",
       "    </tr>\n",
       "    <tr>\n",
       "      <th>4</th>\n",
       "      <td>ISIC_0074268</td>\n",
       "      <td>IP_8723313</td>\n",
       "      <td>female</td>\n",
       "      <td>55.0</td>\n",
       "      <td>upper extremity</td>\n",
       "      <td>unknown</td>\n",
       "      <td>benign</td>\n",
       "      <td>0</td>\n",
       "    </tr>\n",
       "  </tbody>\n",
       "</table>\n",
       "</div>"
      ],
      "text/plain": [
       "     image_name  patient_id     sex  age_approx anatom_site_general_challenge  \\\n",
       "0  ISIC_2637011  IP_7279968    male        45.0                     head/neck   \n",
       "1  ISIC_0015719  IP_3075186  female        45.0               upper extremity   \n",
       "2  ISIC_0052212  IP_2842074  female        50.0               lower extremity   \n",
       "3  ISIC_0068279  IP_6890425  female        45.0                     head/neck   \n",
       "4  ISIC_0074268  IP_8723313  female        55.0               upper extremity   \n",
       "\n",
       "  diagnosis benign_malignant  target  \n",
       "0   unknown           benign       0  \n",
       "1   unknown           benign       0  \n",
       "2     nevus           benign       0  \n",
       "3   unknown           benign       0  \n",
       "4   unknown           benign       0  "
      ]
     },
     "execution_count": 4,
     "metadata": {},
     "output_type": "execute_result"
    }
   ],
   "source": [
    "train.head()"
   ]
  },
  {
   "cell_type": "code",
   "execution_count": 5,
   "metadata": {},
   "outputs": [
    {
     "data": {
      "text/html": [
       "<div>\n",
       "<style scoped>\n",
       "    .dataframe tbody tr th:only-of-type {\n",
       "        vertical-align: middle;\n",
       "    }\n",
       "\n",
       "    .dataframe tbody tr th {\n",
       "        vertical-align: top;\n",
       "    }\n",
       "\n",
       "    .dataframe thead th {\n",
       "        text-align: right;\n",
       "    }\n",
       "</style>\n",
       "<table border=\"1\" class=\"dataframe\">\n",
       "  <thead>\n",
       "    <tr style=\"text-align: right;\">\n",
       "      <th></th>\n",
       "      <th>image_name</th>\n",
       "      <th>patient_id</th>\n",
       "      <th>sex</th>\n",
       "      <th>age_approx</th>\n",
       "      <th>anatom_site_general_challenge</th>\n",
       "    </tr>\n",
       "  </thead>\n",
       "  <tbody>\n",
       "    <tr>\n",
       "      <th>0</th>\n",
       "      <td>ISIC_0052060</td>\n",
       "      <td>IP_3579794</td>\n",
       "      <td>male</td>\n",
       "      <td>70.0</td>\n",
       "      <td>NaN</td>\n",
       "    </tr>\n",
       "    <tr>\n",
       "      <th>1</th>\n",
       "      <td>ISIC_0052349</td>\n",
       "      <td>IP_7782715</td>\n",
       "      <td>male</td>\n",
       "      <td>40.0</td>\n",
       "      <td>lower extremity</td>\n",
       "    </tr>\n",
       "    <tr>\n",
       "      <th>2</th>\n",
       "      <td>ISIC_0058510</td>\n",
       "      <td>IP_7960270</td>\n",
       "      <td>female</td>\n",
       "      <td>55.0</td>\n",
       "      <td>torso</td>\n",
       "    </tr>\n",
       "    <tr>\n",
       "      <th>3</th>\n",
       "      <td>ISIC_0073313</td>\n",
       "      <td>IP_6375035</td>\n",
       "      <td>female</td>\n",
       "      <td>50.0</td>\n",
       "      <td>torso</td>\n",
       "    </tr>\n",
       "    <tr>\n",
       "      <th>4</th>\n",
       "      <td>ISIC_0073502</td>\n",
       "      <td>IP_0589375</td>\n",
       "      <td>female</td>\n",
       "      <td>45.0</td>\n",
       "      <td>lower extremity</td>\n",
       "    </tr>\n",
       "  </tbody>\n",
       "</table>\n",
       "</div>"
      ],
      "text/plain": [
       "     image_name  patient_id     sex  age_approx anatom_site_general_challenge\n",
       "0  ISIC_0052060  IP_3579794    male        70.0                           NaN\n",
       "1  ISIC_0052349  IP_7782715    male        40.0               lower extremity\n",
       "2  ISIC_0058510  IP_7960270  female        55.0                         torso\n",
       "3  ISIC_0073313  IP_6375035  female        50.0                         torso\n",
       "4  ISIC_0073502  IP_0589375  female        45.0               lower extremity"
      ]
     },
     "execution_count": 5,
     "metadata": {},
     "output_type": "execute_result"
    }
   ],
   "source": [
    "test.head()"
   ]
  },
  {
   "cell_type": "code",
   "execution_count": 6,
   "metadata": {},
   "outputs": [
    {
     "data": {
      "text/plain": [
       "0.01762965646320111"
      ]
     },
     "execution_count": 6,
     "metadata": {},
     "output_type": "execute_result"
    }
   ],
   "source": [
    "'''Mean of the target'''\n",
    "\n",
    "np.mean(train.target)"
   ]
  },
  {
   "cell_type": "code",
   "execution_count": 7,
   "metadata": {},
   "outputs": [
    {
     "data": {
      "text/plain": [
       "<matplotlib.axes._subplots.AxesSubplot at 0x235d2bb3348>"
      ]
     },
     "execution_count": 7,
     "metadata": {},
     "output_type": "execute_result"
    },
    {
     "data": {
      "image/png": "[encoded data removed]",
      "text/plain": [
       "<Figure size 720x360 with 1 Axes>"
      ]
     },
     "metadata": {},
     "output_type": "display_data"
    }
   ],
   "source": [
    "'''Visualizing the counts of the target'''\n",
    "\n",
    "plt.figure(figsize=(10,5))\n",
    "sns.countplot(x='target', data=train,\n",
    "                   order=list(train['target'].value_counts().sort_index().index) ,\n",
    "                   color='cyan')"
   ]
  },
  {
   "cell_type": "code",
   "execution_count": 8,
   "metadata": {},
   "outputs": [
    {
     "data": {
      "text/plain": [
       "0    32542\n",
       "1      584\n",
       "Name: target, dtype: int64"
      ]
     },
     "execution_count": 8,
     "metadata": {},
     "output_type": "execute_result"
    }
   ],
   "source": [
    "''' Counts of the target'''\n",
    "\n",
    "train['target'].value_counts()"
   ]
  },
  {
   "cell_type": "code",
   "execution_count": 9,
   "metadata": {},
   "outputs": [
    {
     "data": {
      "text/plain": [
       "Index(['image_name', 'patient_id', 'sex', 'age_approx',\n",
       "       'anatom_site_general_challenge', 'diagnosis', 'benign_malignant',\n",
       "       'target'],\n",
       "      dtype='object')"
      ]
     },
     "execution_count": 9,
     "metadata": {},
     "output_type": "execute_result"
    }
   ],
   "source": [
    "'''Columns Names of the train dataset'''\n",
    "\n",
    "train.columns"
   ]
  },
  {
   "cell_type": "code",
   "execution_count": 10,
   "metadata": {},
   "outputs": [
    {
     "data": {
      "text/html": [
       "<style  type=\"text/css\" >\n",
       "    #T_13c66e88_a148_11eb_abd5_00155d58c5efrow0_col0 {\n",
       "            background-color:  #fff5f0;\n",
       "            color:  #000000;\n",
       "        }    #T_13c66e88_a148_11eb_abd5_00155d58c5efrow0_col2 {\n",
       "            background-color:  #820711;\n",
       "            color:  #f1f1f1;\n",
       "        }    #T_13c66e88_a148_11eb_abd5_00155d58c5efrow1_col0 {\n",
       "            background-color:  #fff5f0;\n",
       "            color:  #000000;\n",
       "        }    #T_13c66e88_a148_11eb_abd5_00155d58c5efrow1_col2 {\n",
       "            background-color:  #67000d;\n",
       "            color:  #f1f1f1;\n",
       "        }    #T_13c66e88_a148_11eb_abd5_00155d58c5efrow2_col0 {\n",
       "            background-color:  #67000d;\n",
       "            color:  #f1f1f1;\n",
       "        }    #T_13c66e88_a148_11eb_abd5_00155d58c5efrow2_col2 {\n",
       "            background-color:  #fff5f0;\n",
       "            color:  #000000;\n",
       "        }    #T_13c66e88_a148_11eb_abd5_00155d58c5efrow3_col0 {\n",
       "            background-color:  #67000d;\n",
       "            color:  #f1f1f1;\n",
       "        }    #T_13c66e88_a148_11eb_abd5_00155d58c5efrow3_col2 {\n",
       "            background-color:  #fff4ee;\n",
       "            color:  #000000;\n",
       "        }</style><table id=\"T_13c66e88_a148_11eb_abd5_00155d58c5ef\" ><thead>    <tr>        <th class=\"blank level0\" ></th>        <th class=\"col_heading level0 col0\" >target</th>        <th class=\"col_heading level0 col1\" >sex</th>        <th class=\"col_heading level0 col2\" >benign_malignant</th>    </tr></thead><tbody>\n",
       "                <tr>\n",
       "                        <th id=\"T_13c66e88_a148_11eb_abd5_00155d58c5eflevel0_row0\" class=\"row_heading level0 row0\" >0</th>\n",
       "                        <td id=\"T_13c66e88_a148_11eb_abd5_00155d58c5efrow0_col0\" class=\"data row0 col0\" >0</td>\n",
       "                        <td id=\"T_13c66e88_a148_11eb_abd5_00155d58c5efrow0_col1\" class=\"data row0 col1\" >female</td>\n",
       "                        <td id=\"T_13c66e88_a148_11eb_abd5_00155d58c5efrow0_col2\" class=\"data row0 col2\" >15761</td>\n",
       "            </tr>\n",
       "            <tr>\n",
       "                        <th id=\"T_13c66e88_a148_11eb_abd5_00155d58c5eflevel0_row1\" class=\"row_heading level0 row1\" >1</th>\n",
       "                        <td id=\"T_13c66e88_a148_11eb_abd5_00155d58c5efrow1_col0\" class=\"data row1 col0\" >0</td>\n",
       "                        <td id=\"T_13c66e88_a148_11eb_abd5_00155d58c5efrow1_col1\" class=\"data row1 col1\" >male</td>\n",
       "                        <td id=\"T_13c66e88_a148_11eb_abd5_00155d58c5efrow1_col2\" class=\"data row1 col2\" >16716</td>\n",
       "            </tr>\n",
       "            <tr>\n",
       "                        <th id=\"T_13c66e88_a148_11eb_abd5_00155d58c5eflevel0_row2\" class=\"row_heading level0 row2\" >2</th>\n",
       "                        <td id=\"T_13c66e88_a148_11eb_abd5_00155d58c5efrow2_col0\" class=\"data row2 col0\" >1</td>\n",
       "                        <td id=\"T_13c66e88_a148_11eb_abd5_00155d58c5efrow2_col1\" class=\"data row2 col1\" >female</td>\n",
       "                        <td id=\"T_13c66e88_a148_11eb_abd5_00155d58c5efrow2_col2\" class=\"data row2 col2\" >220</td>\n",
       "            </tr>\n",
       "            <tr>\n",
       "                        <th id=\"T_13c66e88_a148_11eb_abd5_00155d58c5eflevel0_row3\" class=\"row_heading level0 row3\" >3</th>\n",
       "                        <td id=\"T_13c66e88_a148_11eb_abd5_00155d58c5efrow3_col0\" class=\"data row3 col0\" >1</td>\n",
       "                        <td id=\"T_13c66e88_a148_11eb_abd5_00155d58c5efrow3_col1\" class=\"data row3 col1\" >male</td>\n",
       "                        <td id=\"T_13c66e88_a148_11eb_abd5_00155d58c5efrow3_col2\" class=\"data row3 col2\" >364</td>\n",
       "            </tr>\n",
       "    </tbody></table>"
      ],
      "text/plain": [
       "<pandas.io.formats.style.Styler at 0x235d2e1b848>"
      ]
     },
     "execution_count": 10,
     "metadata": {},
     "output_type": "execute_result"
    }
   ],
   "source": [
    "'''Count of target based in sex'''\n",
    "\n",
    "x=train.groupby(['target','sex'])['benign_malignant'].count().to_frame().reset_index()\n",
    "x.style.background_gradient(cmap='Reds')"
   ]
  },
  {
   "cell_type": "code",
   "execution_count": 11,
   "metadata": {},
   "outputs": [
    {
     "data": {
      "text/plain": [
       "<seaborn.axisgrid.FacetGrid at 0x235d2e035c8>"
      ]
     },
     "execution_count": 11,
     "metadata": {},
     "output_type": "execute_result"
    },
    {
     "data": {
      "image/png": "[encoded data removed]",
      "text/plain": [
       "<Figure size 432.85x360 with 1 Axes>"
      ]
     },
     "metadata": {},
     "output_type": "display_data"
    }
   ],
   "source": [
    "'''Visualizing the count of target based on sex'''\n",
    "\n",
    "sns.catplot(x='target',y='benign_malignant', hue='sex',data=x,kind='bar')"
   ]
  },
  {
   "cell_type": "code",
   "execution_count": 12,
   "metadata": {},
   "outputs": [],
   "source": [
    "'''Seperating classes'''\n",
    "\n",
    "benign = train[train['benign_malignant']=='benign']\n",
    "malignant = train[train['benign_malignant']=='malignant']"
   ]
  },
  {
   "cell_type": "markdown",
   "metadata": {},
   "source": [
    "## Training the model"
   ]
  },
  {
   "cell_type": "code",
   "execution_count": 14,
   "metadata": {},
   "outputs": [],
   "source": [
    "import time"
   ]
  },
  {
   "cell_type": "code",
   "execution_count": 15,
   "metadata": {},
   "outputs": [
    {
     "name": "stdout",
     "output_type": "stream",
     "text": [
      "\n",
      "Time to load test images: 0.51197 seconds.\n",
      "Test_images shape:  (10982, 96, 96, 3)\n"
     ]
    }
   ],
   "source": [
    "start=time.time()\n",
    "test_images = np.load('C:/Users/gnana/Downloads/x_test_96.npy/x_test_96.npy')\n",
    "end=time.time()\n",
    "print(f\"\\nTime to load test images: {round(end-start,5)} seconds.\")\n",
    "print('Test_images shape: ',test_images.shape)"
   ]
  },
  {
   "cell_type": "code",
   "execution_count": 16,
   "metadata": {},
   "outputs": [
    {
     "name": "stdout",
     "output_type": "stream",
     "text": [
      "\n",
      "Time to load train images: 1.58635 seconds.\n",
      "train_images shape:  (33126, 96, 96, 3)\n"
     ]
    }
   ],
   "source": [
    "start=time.time()\n",
    "train_images = np.load('C:/Users/gnana/Downloads/x_test_96.npy/x_train_96.npy')\n",
    "end=time.time()\n",
    "print(f\"\\nTime to load train images: {round(end-start,5)} seconds.\")\n",
    "print('train_images shape: ',train_images.shape)"
   ]
  },
  {
   "cell_type": "code",
   "execution_count": 17,
   "metadata": {},
   "outputs": [
    {
     "name": "stdout",
     "output_type": "stream",
     "text": [
      "Train_labels shape:  (33126, 1)\n"
     ]
    }
   ],
   "source": [
    "#target data\n",
    "train_labels =np.array(train.drop(['image_name', 'patient_id', 'sex', 'age_approx',\n",
    "       'anatom_site_general_challenge', 'diagnosis','benign_malignant'],axis=1))\n",
    "print('Train_labels shape: ',train_labels.shape)"
   ]
  },
  {
   "cell_type": "code",
   "execution_count": 18,
   "metadata": {},
   "outputs": [],
   "source": [
    "'''spliting train data'''\n",
    "\n",
    "from sklearn.model_selection import train_test_split\n",
    "x_train,x_val,y_train,y_val=train_test_split(train_images,train_labels,test_size=0.3)"
   ]
  },
  {
   "cell_type": "code",
   "execution_count": 19,
   "metadata": {},
   "outputs": [
    {
     "name": "stdout",
     "output_type": "stream",
     "text": [
      "x_train shape:  (23188, 96, 96, 3)\n",
      "x_val shape:  (9938, 96, 96, 3)\n"
     ]
    }
   ],
   "source": [
    "'''Shape of the train and test'''\n",
    "\n",
    "print('x_train shape: ',x_train.shape)\n",
    "print('x_val shape: ',x_val.shape)"
   ]
  },
  {
   "cell_type": "markdown",
   "metadata": {},
   "source": [
    "## Modelling"
   ]
  },
  {
   "cell_type": "code",
   "execution_count": 20,
   "metadata": {},
   "outputs": [],
   "source": [
    "strategy = tf.distribute.get_strategy()"
   ]
  },
  {
   "cell_type": "code",
   "execution_count": 21,
   "metadata": {},
   "outputs": [
    {
     "name": "stdout",
     "output_type": "stream",
     "text": [
      "Model: \"sequential\"\n",
      "_________________________________________________________________\n",
      "Layer (type)                 Output Shape              Param #   \n",
      "=================================================================\n",
      "vgg16 (Functional)           (None, 3, 3, 512)         14714688  \n",
      "_________________________________________________________________\n",
      "batch_normalization (BatchNo (None, 3, 3, 512)         2048      \n",
      "_________________________________________________________________\n",
      "dropout (Dropout)            (None, 3, 3, 512)         0         \n",
      "_________________________________________________________________\n",
      "flatten (Flatten)            (None, 4608)              0         \n",
      "_________________________________________________________________\n",
      "dense (Dense)                (None, 512)               2359808   \n",
      "_________________________________________________________________\n",
      "batch_normalization_1 (Batch (None, 512)               2048      \n",
      "_________________________________________________________________\n",
      "dropout_1 (Dropout)          (None, 512)               0         \n",
      "_________________________________________________________________\n",
      "output_layer (Dense)         (None, 1)                 513       \n",
      "=================================================================\n",
      "Total params: 17,079,105\n",
      "Trainable params: 17,077,057\n",
      "Non-trainable params: 2,048\n",
      "_________________________________________________________________\n"
     ]
    }
   ],
   "source": [
    "'''VGG-16 MODEL NO. 1'''\n",
    "\n",
    "from keras.applications.vgg16 import VGG16\n",
    "\n",
    "input_shape=(96,96,3)\n",
    "num_classes=1\n",
    "tmodel_base = VGG16(weights='imagenet', include_top=False, input_shape=input_shape)\n",
    "    \n",
    "model = Sequential()\n",
    "model.add(tmodel_base)\n",
    "model.add(BatchNormalization())\n",
    "model.add(Dropout(0.50))\n",
    "model.add(Flatten())\n",
    "model.add(Dense(512, activation='relu'))\n",
    "model.add(BatchNormalization())\n",
    "model.add(Dropout(0.25))\n",
    "model.add(Dense(num_classes, activation='sigmoid', name='output_layer'))\n",
    "model.summary()\n",
    "\n",
    "model.compile(loss='binary_crossentropy', optimizer='sgd', metrics=['accuracy'])"
   ]
  },
  {
   "cell_type": "code",
   "execution_count": 22,
   "metadata": {},
   "outputs": [
    {
     "name": "stdout",
     "output_type": "stream",
     "text": [
      "Model: \"sequential_1\"\n",
      "_________________________________________________________________\n",
      "Layer (type)                 Output Shape              Param #   \n",
      "=================================================================\n",
      "densenet201 (Functional)     (None, 3, 3, 1920)        18321984  \n",
      "_________________________________________________________________\n",
      "global_average_pooling2d (Gl (None, 1920)              0         \n",
      "_________________________________________________________________\n",
      "dense_1 (Dense)              (None, 1)                 1921      \n",
      "=================================================================\n",
      "Total params: 18,323,905\n",
      "Trainable params: 18,094,849\n",
      "Non-trainable params: 229,056\n",
      "_________________________________________________________________\n"
     ]
    }
   ],
   "source": [
    "'''DENSENET MODEL NO. 2'''\n",
    "\n",
    "from tensorflow.keras.applications import DenseNet201\n",
    "import tensorflow.keras.layers as L\n",
    "\n",
    "with strategy.scope():\n",
    "    dnet201 = DenseNet201(\n",
    "        input_shape=(96,96, 3),\n",
    "        weights='imagenet',\n",
    "        include_top=False\n",
    "    )\n",
    "    dnet201.trainable = True\n",
    "\n",
    "    model2 = tf.keras.Sequential([\n",
    "        dnet201,\n",
    "        L.GlobalAveragePooling2D(),\n",
    "        L.Dense(1, activation='sigmoid')\n",
    "    ])\n",
    "    model2.compile(\n",
    "        optimizer='adam',\n",
    "        loss = 'binary_crossentropy',\n",
    "        metrics=['accuracy']\n",
    "    )\n",
    "\n",
    "model2.summary()"
   ]
  },
  {
   "cell_type": "code",
   "execution_count": 23,
   "metadata": {},
   "outputs": [
    {
     "name": "stdout",
     "output_type": "stream",
     "text": [
      "Epoch 1/5\n",
      "182/182 [==============================] - 3799s 21s/step - loss: 0.6893 - accuracy: 0.6394 - val_loss: 0.2704 - val_accuracy: 0.9824\n",
      "Epoch 2/5\n",
      "182/182 [==============================] - 3516s 19s/step - loss: 0.2549 - accuracy: 0.9451 - val_loss: 0.1982 - val_accuracy: 0.9823\n",
      "Epoch 3/5\n",
      "182/182 [==============================] - 3290s 18s/step - loss: 0.1592 - accuracy: 0.9745 - val_loss: 0.4099 - val_accuracy: 0.7934\n",
      "Epoch 4/5\n",
      "182/182 [==============================] - 3298s 18s/step - loss: 0.1304 - accuracy: 0.9778 - val_loss: 0.1178 - val_accuracy: 0.9824\n",
      "Epoch 5/5\n",
      "182/182 [==============================] - 3469s 19s/step - loss: 0.1226 - accuracy: 0.9776 - val_loss: 0.0911 - val_accuracy: 0.9824\n"
     ]
    }
   ],
   "source": [
    "'''Fitting Model1'''\n",
    "batch_size=128\n",
    "epochs=5\n",
    "\n",
    "history = model.fit(x_train,\n",
    "             y_train,\n",
    "             batch_size=batch_size,\n",
    "             epochs=epochs,\n",
    "             verbose=1,\n",
    "             validation_data=(x_val,y_val))"
   ]
  },
  {
   "cell_type": "code",
   "execution_count": 22,
   "metadata": {},
   "outputs": [
    {
     "data": {
      "image/png": "[encoded data removed]",
      "text/plain": [
       "<Figure size 864x288 with 2 Axes>"
      ]
     },
     "metadata": {},
     "output_type": "display_data"
    }
   ],
   "source": [
    "'''Model 1 Performance Visualization'''\n",
    "\n",
    "f, (ax1, ax2) = plt.subplots(1, 2, figsize=(12, 4))\n",
    "t = f.suptitle('VGG-16 Model1 Performance', fontsize=12)\n",
    "f.subplots_adjust(top=0.85, wspace=0.3)\n",
    "\n",
    "epoch_list = list(range(1,6))\n",
    "ax1.plot(epoch_list, history.history['accuracy'] , label='Train Accuracy')\n",
    "ax1.plot(epoch_list, history.history['val_accuracy'] , label='Validation Accuracy')\n",
    "ax1.set_xticks(np.arange(1, 6, 1))\n",
    "ax1.set_ylabel('Accuracy Value')\n",
    "ax1.set_xlabel('Epoch')\n",
    "ax1.set_title('Accuracy')\n",
    "l1 = ax1.legend(loc=\"best\")\n",
    "\n",
    "ax2.plot(epoch_list,history.history['loss'], label='Train Loss')\n",
    "ax2.plot(epoch_list,history.history['val_loss'], label='Validation Loss')\n",
    "ax2.set_xticks(np.arange(1, 6, 1))\n",
    "ax2.set_ylabel('Loss Value')\n",
    "ax2.set_xlabel('Epoch')\n",
    "ax2.set_title('Loss')\n",
    "l2 = ax2.legend(loc=\"best\")"
   ]
  },
  {
   "cell_type": "code",
   "execution_count": 24,
   "metadata": {},
   "outputs": [
    {
     "name": "stdout",
     "output_type": "stream",
     "text": [
      "Epoch 1/5\n",
      "182/182 [==============================] - 3293s 18s/step - loss: 0.1275 - accuracy: 0.9628 - val_loss: 0.1253 - val_accuracy: 0.9802\n",
      "Epoch 2/5\n",
      "182/182 [==============================] - 3223s 18s/step - loss: 0.0769 - accuracy: 0.9810 - val_loss: 0.0763 - val_accuracy: 0.9824\n",
      "Epoch 3/5\n",
      "182/182 [==============================] - 3041s 17s/step - loss: 0.0714 - accuracy: 0.9820 - val_loss: 0.1655 - val_accuracy: 0.9823\n",
      "Epoch 4/5\n",
      "182/182 [==============================] - 3059s 17s/step - loss: 0.0745 - accuracy: 0.9820 - val_loss: 925.0889 - val_accuracy: 0.0272\n",
      "Epoch 5/5\n",
      "182/182 [==============================] - 3278s 18s/step - loss: 0.0814 - accuracy: 0.9816 - val_loss: 0.8788 - val_accuracy: 0.9824\n"
     ]
    }
   ],
   "source": [
    "'''Fitting Model2'''\n",
    "\n",
    "batch_size=128\n",
    "epochs=5\n",
    "\n",
    "history = model2.fit(x_train,\n",
    "             y_train,\n",
    "             batch_size=batch_size,\n",
    "             epochs=epochs,\n",
    "             verbose=1,\n",
    "             validation_data=(x_val,y_val))"
   ]
  },
  {
   "cell_type": "code",
   "execution_count": 24,
   "metadata": {},
   "outputs": [
    {
     "data": {
      "image/png": "[encoded data removed]",
      "text/plain": [
       "<Figure size 864x288 with 2 Axes>"
      ]
     },
     "metadata": {},
     "output_type": "display_data"
    }
   ],
   "source": [
    "'''Model 2 Performance Visualization'''\n",
    "\n",
    "f, (ax1, ax2) = plt.subplots(1, 2, figsize=(12, 4))\n",
    "t = f.suptitle('DENSENET Model2 Performance', fontsize=12)\n",
    "f.subplots_adjust(top=0.85, wspace=0.3)\n",
    "\n",
    "epoch_list = list(range(1,6))\n",
    "ax1.plot(epoch_list, history.history['accuracy'] , label='Train Accuracy')\n",
    "ax1.plot(epoch_list, history.history['val_accuracy'] , label='Validation Accuracy')\n",
    "ax1.set_xticks(np.arange(1, 6, 1))\n",
    "ax1.set_ylabel('Accuracy Value')\n",
    "ax1.set_xlabel('Epoch')\n",
    "ax1.set_title('Accuracy')\n",
    "l1 = ax1.legend(loc=\"best\")\n",
    "\n",
    "ax2.plot(epoch_list,history.history['loss'], label='Train Loss')\n",
    "ax2.plot(epoch_list,history.history['val_loss'], label='Validation Loss')\n",
    "ax2.set_xticks(np.arange(1, 6, 1))\n",
    "ax2.set_ylabel('Loss Value')\n",
    "ax2.set_xlabel('Epoch')\n",
    "ax2.set_title('Loss')\n",
    "l2 = ax2.legend(loc=\"best\")"
   ]
  },
  {
   "cell_type": "code",
   "execution_count": 25,
   "metadata": {},
   "outputs": [],
   "source": [
    "'''Saving model 1'''\n",
    "\n",
    "model.save(\"vgg16.h5\")"
   ]
  },
  {
   "cell_type": "code",
   "execution_count": 26,
   "metadata": {},
   "outputs": [],
   "source": [
    "'''Saving model2'''\n",
    "\n",
    "model2.save(\"xception.h5\")"
   ]
  },
  {
   "cell_type": "code",
   "execution_count": 27,
   "metadata": {},
   "outputs": [
    {
     "name": "stdout",
     "output_type": "stream",
     "text": [
      "Test loss: 0.09106143563985825\n",
      "Test accuracy: 0.982390820980072\n"
     ]
    }
   ],
   "source": [
    "''' Loss and accuracy of Model1'''\n",
    "\n",
    "scores = model.evaluate(x_val, y_val, verbose=0)\n",
    "print('Test loss:', scores[0])\n",
    "print('Test accuracy:', scores[1])"
   ]
  },
  {
   "cell_type": "code",
   "execution_count": 28,
   "metadata": {},
   "outputs": [
    {
     "name": "stdout",
     "output_type": "stream",
     "text": [
      "Test loss: 0.8787508010864258\n",
      "Test accuracy: 0.982390820980072\n"
     ]
    }
   ],
   "source": [
    "''' Loss and accuracy of Model2'''\n",
    "\n",
    "scores = model2.evaluate(x_val, y_val, verbose=0)\n",
    "print('Test loss:', scores[0])\n",
    "print('Test accuracy:', scores[1])"
   ]
  },
  {
   "cell_type": "code",
   "execution_count": 29,
   "metadata": {},
   "outputs": [
    {
     "data": {
      "text/html": [
       "<div>\n",
       "<style scoped>\n",
       "    .dataframe tbody tr th:only-of-type {\n",
       "        vertical-align: middle;\n",
       "    }\n",
       "\n",
       "    .dataframe tbody tr th {\n",
       "        vertical-align: top;\n",
       "    }\n",
       "\n",
       "    .dataframe thead th {\n",
       "        text-align: right;\n",
       "    }\n",
       "</style>\n",
       "<table border=\"1\" class=\"dataframe\">\n",
       "  <thead>\n",
       "    <tr style=\"text-align: right;\">\n",
       "      <th></th>\n",
       "      <th>image_name</th>\n",
       "      <th>target</th>\n",
       "    </tr>\n",
       "  </thead>\n",
       "  <tbody>\n",
       "    <tr>\n",
       "      <th>0</th>\n",
       "      <td>ISIC_0052060</td>\n",
       "      <td>0.049181</td>\n",
       "    </tr>\n",
       "    <tr>\n",
       "      <th>1</th>\n",
       "      <td>ISIC_0052349</td>\n",
       "      <td>0.025696</td>\n",
       "    </tr>\n",
       "    <tr>\n",
       "      <th>2</th>\n",
       "      <td>ISIC_0058510</td>\n",
       "      <td>0.024058</td>\n",
       "    </tr>\n",
       "    <tr>\n",
       "      <th>3</th>\n",
       "      <td>ISIC_0073313</td>\n",
       "      <td>0.018088</td>\n",
       "    </tr>\n",
       "    <tr>\n",
       "      <th>4</th>\n",
       "      <td>ISIC_0073502</td>\n",
       "      <td>0.027797</td>\n",
       "    </tr>\n",
       "    <tr>\n",
       "      <th>5</th>\n",
       "      <td>ISIC_0074618</td>\n",
       "      <td>0.034474</td>\n",
       "    </tr>\n",
       "    <tr>\n",
       "      <th>6</th>\n",
       "      <td>ISIC_0076801</td>\n",
       "      <td>0.031038</td>\n",
       "    </tr>\n",
       "    <tr>\n",
       "      <th>7</th>\n",
       "      <td>ISIC_0077586</td>\n",
       "      <td>0.045804</td>\n",
       "    </tr>\n",
       "    <tr>\n",
       "      <th>8</th>\n",
       "      <td>ISIC_0082004</td>\n",
       "      <td>0.035283</td>\n",
       "    </tr>\n",
       "    <tr>\n",
       "      <th>9</th>\n",
       "      <td>ISIC_0082785</td>\n",
       "      <td>0.034467</td>\n",
       "    </tr>\n",
       "  </tbody>\n",
       "</table>\n",
       "</div>"
      ],
      "text/plain": [
       "     image_name    target\n",
       "0  ISIC_0052060  0.049181\n",
       "1  ISIC_0052349  0.025696\n",
       "2  ISIC_0058510  0.024058\n",
       "3  ISIC_0073313  0.018088\n",
       "4  ISIC_0073502  0.027797\n",
       "5  ISIC_0074618  0.034474\n",
       "6  ISIC_0076801  0.031038\n",
       "7  ISIC_0077586  0.045804\n",
       "8  ISIC_0082004  0.035283\n",
       "9  ISIC_0082785  0.034467"
      ]
     },
     "execution_count": 29,
     "metadata": {},
     "output_type": "execute_result"
    }
   ],
   "source": [
    "'''Predicting using Model1'''\n",
    "\n",
    "y_test_prob = model.predict(test_images)\n",
    "pred_df = pd.DataFrame({'image_name': test['image_name'], 'target': np.concatenate(y_test_prob)})\n",
    "pred_df.to_csv('submission_vgg.csv',header=True, index=False)\n",
    "pred_df.head(10)"
   ]
  },
  {
   "cell_type": "code",
   "execution_count": 30,
   "metadata": {},
   "outputs": [
    {
     "data": {
      "text/html": [
       "<div>\n",
       "<style scoped>\n",
       "    .dataframe tbody tr th:only-of-type {\n",
       "        vertical-align: middle;\n",
       "    }\n",
       "\n",
       "    .dataframe tbody tr th {\n",
       "        vertical-align: top;\n",
       "    }\n",
       "\n",
       "    .dataframe thead th {\n",
       "        text-align: right;\n",
       "    }\n",
       "</style>\n",
       "<table border=\"1\" class=\"dataframe\">\n",
       "  <thead>\n",
       "    <tr style=\"text-align: right;\">\n",
       "      <th></th>\n",
       "      <th>image_name</th>\n",
       "      <th>target</th>\n",
       "    </tr>\n",
       "  </thead>\n",
       "  <tbody>\n",
       "    <tr>\n",
       "      <th>0</th>\n",
       "      <td>ISIC_0052060</td>\n",
       "      <td>0.009682</td>\n",
       "    </tr>\n",
       "    <tr>\n",
       "      <th>1</th>\n",
       "      <td>ISIC_0052349</td>\n",
       "      <td>0.006286</td>\n",
       "    </tr>\n",
       "    <tr>\n",
       "      <th>2</th>\n",
       "      <td>ISIC_0058510</td>\n",
       "      <td>0.006432</td>\n",
       "    </tr>\n",
       "    <tr>\n",
       "      <th>3</th>\n",
       "      <td>ISIC_0073313</td>\n",
       "      <td>0.006461</td>\n",
       "    </tr>\n",
       "    <tr>\n",
       "      <th>4</th>\n",
       "      <td>ISIC_0073502</td>\n",
       "      <td>0.015349</td>\n",
       "    </tr>\n",
       "    <tr>\n",
       "      <th>5</th>\n",
       "      <td>ISIC_0074618</td>\n",
       "      <td>0.013033</td>\n",
       "    </tr>\n",
       "    <tr>\n",
       "      <th>6</th>\n",
       "      <td>ISIC_0076801</td>\n",
       "      <td>0.012930</td>\n",
       "    </tr>\n",
       "    <tr>\n",
       "      <th>7</th>\n",
       "      <td>ISIC_0077586</td>\n",
       "      <td>0.026069</td>\n",
       "    </tr>\n",
       "    <tr>\n",
       "      <th>8</th>\n",
       "      <td>ISIC_0082004</td>\n",
       "      <td>0.021260</td>\n",
       "    </tr>\n",
       "    <tr>\n",
       "      <th>9</th>\n",
       "      <td>ISIC_0082785</td>\n",
       "      <td>0.011665</td>\n",
       "    </tr>\n",
       "  </tbody>\n",
       "</table>\n",
       "</div>"
      ],
      "text/plain": [
       "     image_name    target\n",
       "0  ISIC_0052060  0.009682\n",
       "1  ISIC_0052349  0.006286\n",
       "2  ISIC_0058510  0.006432\n",
       "3  ISIC_0073313  0.006461\n",
       "4  ISIC_0073502  0.015349\n",
       "5  ISIC_0074618  0.013033\n",
       "6  ISIC_0076801  0.012930\n",
       "7  ISIC_0077586  0.026069\n",
       "8  ISIC_0082004  0.021260\n",
       "9  ISIC_0082785  0.011665"
      ]
     },
     "execution_count": 30,
     "metadata": {},
     "output_type": "execute_result"
    }
   ],
   "source": [
    "'''Predicting using Model2'''\n",
    "\n",
    "y_test_prob2 = model2.predict(test_images)\n",
    "pred_df2 = pd.DataFrame({'image_name': test['image_name'], 'target': np.concatenate(y_test_prob2)})\n",
    "pred_df2.to_csv('submission_xception.csv',header=True, index=False)\n",
    "pred_df2.head(10)"
   ]
  },
  {
   "cell_type": "code",
   "execution_count": 31,
   "metadata": {},
   "outputs": [
    {
     "data": {
      "text/html": [
       "<div>\n",
       "<style scoped>\n",
       "    .dataframe tbody tr th:only-of-type {\n",
       "        vertical-align: middle;\n",
       "    }\n",
       "\n",
       "    .dataframe tbody tr th {\n",
       "        vertical-align: top;\n",
       "    }\n",
       "\n",
       "    .dataframe thead th {\n",
       "        text-align: right;\n",
       "    }\n",
       "</style>\n",
       "<table border=\"1\" class=\"dataframe\">\n",
       "  <thead>\n",
       "    <tr style=\"text-align: right;\">\n",
       "      <th></th>\n",
       "      <th>image_name</th>\n",
       "      <th>target</th>\n",
       "    </tr>\n",
       "  </thead>\n",
       "  <tbody>\n",
       "    <tr>\n",
       "      <th>0</th>\n",
       "      <td>ISIC_0052060</td>\n",
       "      <td>0.017659</td>\n",
       "    </tr>\n",
       "    <tr>\n",
       "      <th>1</th>\n",
       "      <td>ISIC_0052349</td>\n",
       "      <td>0.009595</td>\n",
       "    </tr>\n",
       "    <tr>\n",
       "      <th>2</th>\n",
       "      <td>ISIC_0058510</td>\n",
       "      <td>0.009147</td>\n",
       "    </tr>\n",
       "    <tr>\n",
       "      <th>3</th>\n",
       "      <td>ISIC_0073313</td>\n",
       "      <td>0.007365</td>\n",
       "    </tr>\n",
       "    <tr>\n",
       "      <th>4</th>\n",
       "      <td>ISIC_0073502</td>\n",
       "      <td>0.012944</td>\n",
       "    </tr>\n",
       "    <tr>\n",
       "      <th>5</th>\n",
       "      <td>ISIC_0074618</td>\n",
       "      <td>0.014252</td>\n",
       "    </tr>\n",
       "    <tr>\n",
       "      <th>6</th>\n",
       "      <td>ISIC_0076801</td>\n",
       "      <td>0.013190</td>\n",
       "    </tr>\n",
       "    <tr>\n",
       "      <th>7</th>\n",
       "      <td>ISIC_0077586</td>\n",
       "      <td>0.021562</td>\n",
       "    </tr>\n",
       "    <tr>\n",
       "      <th>8</th>\n",
       "      <td>ISIC_0082004</td>\n",
       "      <td>0.016963</td>\n",
       "    </tr>\n",
       "    <tr>\n",
       "      <th>9</th>\n",
       "      <td>ISIC_0082785</td>\n",
       "      <td>0.013840</td>\n",
       "    </tr>\n",
       "  </tbody>\n",
       "</table>\n",
       "</div>"
      ],
      "text/plain": [
       "     image_name    target\n",
       "0  ISIC_0052060  0.017659\n",
       "1  ISIC_0052349  0.009595\n",
       "2  ISIC_0058510  0.009147\n",
       "3  ISIC_0073313  0.007365\n",
       "4  ISIC_0073502  0.012944\n",
       "5  ISIC_0074618  0.014252\n",
       "6  ISIC_0076801  0.013190\n",
       "7  ISIC_0077586  0.021562\n",
       "8  ISIC_0082004  0.016963\n",
       "9  ISIC_0082785  0.013840"
      ]
     },
     "execution_count": 31,
     "metadata": {},
     "output_type": "execute_result"
    }
   ],
   "source": [
    "'''Ensemble Learning'''\n",
    "\n",
    "en = pd.DataFrame({'image_name':test['image_name'], 'target':(0.3*pred_df['target'] + 0.3*pred_df2['target'])})\n",
    "en.to_csv('ensemble1.csv',header=True, index=False)\n",
    "en.head(10)"
   ]
  },
  {
   "cell_type": "code",
   "execution_count": null,
   "metadata": {},
   "outputs": [],
   "source": []
  }
 ],
 "metadata": {
  "kernelspec": {
   "display_name": "Python 3",
   "language": "python",
   "name": "python3"
  },
  "language_info": {
   "codemirror_mode": {
    "name": "ipython",
    "version": 3
   },
   "file_extension": ".py",
   "mimetype": "text/x-python",
   "name": "python",
   "nbconvert_exporter": "python",
   "pygments_lexer": "ipython3",
   "version": "3.7.6"
  }
 },
 "nbformat": 4,
 "nbformat_minor": 4
}
